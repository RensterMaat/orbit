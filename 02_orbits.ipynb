{
 "cells": [
  {
   "cell_type": "code",
   "execution_count": 80,
   "metadata": {},
   "outputs": [],
   "source": [
    "import numpy as np\n",
    "import time\n",
    "import os\n",
    "\n",
    "delta_t = 0.01\n",
    "G = 100\n",
    "\n",
    "\n",
    "class Body():\n",
    "    def __init__(self, mass, radius, position, velocity, star=False):\n",
    "        self.mass = mass\n",
    "        self.radius = radius\n",
    "        self.position = position\n",
    "        self.velocity = velocity\n",
    "        self.star = star\n",
    "\n",
    "        self.draw_sphere()\n",
    "        self.normals = self.points.copy() / radius\n",
    "        self.points = self.points + position\n",
    "\n",
    "    def draw_sphere(self):\n",
    "        thetas = np.arange(0, 2 * np.pi, 0.05)\n",
    "\n",
    "        circle = np.array([\n",
    "            self.radius * np.cos(thetas),\n",
    "            np.zeros(thetas.shape),\n",
    "            self.radius * np.sin(thetas)\n",
    "        ])\n",
    "\n",
    "        m = self.rotation_matrix(thetas)\n",
    "\n",
    "        self.points = (m @ circle).transpose(0,2,1).reshape(-1,3)\n",
    "\n",
    "    def move(self, bodies):\n",
    "        for body in bodies:\n",
    "            # calculate gravitational force\n",
    "            F = G * self.mass * body.mass \\\n",
    "                / np.linalg.norm(self.position - body.position) ** 2\n",
    "\n",
    "            # update velocity\n",
    "            delta_v = F * delta_t\n",
    "            self.velocity = self.velocity + delta_v\n",
    "\n",
    "        # update position\n",
    "        delta_position = self.velocity * delta_t\n",
    "        self.position = self.position + delta_position\n",
    "        self.points = self.points + delta_position\n",
    "\n",
    "\n",
    "    def rotation_matrix(self, theta):\n",
    "        c = np.cos(theta)\n",
    "        s = np.sin(theta)\n",
    "        m = np.zeros((len(theta),3,3))\n",
    "        m[:,2,2] = 1\n",
    "        m[:,:2,:2] = np.array([\n",
    "            [c,-s],\n",
    "            [s,c],\n",
    "        ]).transpose(2,0,1)\n",
    "        return m\n",
    "\n",
    "    def shade(self, star_position=None):\n",
    "        if self.star:\n",
    "            self.shading = np.ones(self.points.shape[0])\n",
    "        else:\n",
    "            light_direction = self.position - star_position\n",
    "            self.shading = -(self.normals @ light_direction)\n",
    "\n",
    "class Camera():\n",
    "    def __init__(self, position, focus, screen_distance):\n",
    "        self.position = position\n",
    "        self.focus = focus\n",
    "        self.screen_distance = screen_distance\n",
    "\n",
    "        direction = focus - position\n",
    "        self.direction = direction / np.linalg.norm(direction)\n",
    "\n",
    "        left_right = np.cross(self.direction, np.array([0,0,1]))\n",
    "        self.left_right = left_right / np.linalg.norm(left_right)\n",
    "\n",
    "        top_bottom = np.cross(left_right, self.direction)\n",
    "        self.top_bottom = top_bottom / np.linalg.norm(top_bottom)\n",
    "\n",
    "        self.greyscale = ' .:-=+*#%@'\n",
    "\n",
    "    def project(self, bodies):\n",
    "        points = np.concatenate([body.points for body in bodies])\n",
    "        shading = np.concatenate([body.shading for body in bodies])\n",
    "\n",
    "        # project the torus on the screen\n",
    "        proj_tb = self.screen_distance * ((points - self.position) @ self.top_bottom) \\\n",
    "            / ((points - self.position) @ self.direction)\n",
    "        proj_lr = self.screen_distance * ((points - self.position) @ self.left_right) \\\n",
    "            / ((points - self.position) @ self.direction)\n",
    "\n",
    "        # sort the points on distance to camera so only the closest points are shown\n",
    "        distance_to_camera = points @ self.direction\n",
    "        order = (-distance_to_camera).argsort()\n",
    "\n",
    "        # set up the screen\n",
    "        screen = np.empty((150,60), dtype='str')\n",
    "        screen[:] = ' '\n",
    "\n",
    "        # convert x, y and shading to digital values\n",
    "        digital_lr = np.digitize(proj_lr, np.linspace(-1,1,screen.shape[0]))\n",
    "        digital_tb = np.digitize(proj_tb, np.linspace(-1,1,screen.shape[1]))\n",
    "        digital_shading = np.digitize(shading, np.linspace(shading.min(),shading.max(), 10)) - 1\n",
    "\n",
    "        # fill the screen\n",
    "        for x, y, shade in zip(digital_lr[order], digital_tb[order], digital_shading[order]):\n",
    "            screen[x,y] = self.greyscale[shade]\n",
    "\n",
    "        return np.flip(screen.T, axis=0)\n",
    "\n",
    "c = Camera(position=np.array([-10, 0, 6]), focus=np.array([0,0,0]), screen_distance=1)\n",
    "sun = Body(1,2,np.array([0,0,0]), np.array([0,0,0]), star=True)\n",
    "earth = Body(1,1, np.array([-7,0,0]), np.array([0,0,0]))\n",
    "\n",
    "\n",
    "\n",
    "# while(True):\n",
    "#     earth.points = earth.points @ earth.rotation_matrix([0.1])[0]\n",
    "#     earth.normals = earth.normals @ earth.rotation_matrix([0.1])[0]\n",
    "\n",
    "#     sun.shade()\n",
    "#     earth.shade()\n",
    "    \n",
    "    \n",
    "\n",
    "#     screen = c.project([sun, earth])\n",
    "\n",
    "#     os.system('clear')\n",
    "#     for row in screen:\n",
    "#         print(''.join(row))\n",
    "\n",
    "#     time.sleep(0.01)"
   ]
  },
  {
   "cell_type": "code",
   "execution_count": 73,
   "metadata": {},
   "outputs": [],
   "source": [
    "earth.shade(sun.position)"
   ]
  },
  {
   "cell_type": "code",
   "execution_count": 74,
   "metadata": {},
   "outputs": [
    {
     "data": {
      "text/plain": [
       "array([1.        , 0.99829941, 0.99320718, ..., 0.98722815, 0.99455114,\n",
       "       0.99850195])"
      ]
     },
     "execution_count": 74,
     "metadata": {},
     "output_type": "execute_result"
    }
   ],
   "source": [
    "earth.shading"
   ]
  },
  {
   "cell_type": "code",
   "execution_count": 79,
   "metadata": {},
   "outputs": [
    {
     "data": {
      "text/plain": [
       "array([-8.        , -7.99125182, -7.96502916, ..., -7.93418764,\n",
       "       -7.97195393, -7.99229398])"
      ]
     },
     "execution_count": 79,
     "metadata": {},
     "output_type": "execute_result"
    }
   ],
   "source": [
    "np.diag((earth.points - sun.points) @ earth.normals.T) / 8"
   ]
  },
  {
   "cell_type": "code",
   "execution_count": 42,
   "metadata": {},
   "outputs": [
    {
     "data": {
      "text/plain": [
       "(15876, 3)"
      ]
     },
     "execution_count": 42,
     "metadata": {},
     "output_type": "execute_result"
    }
   ],
   "source": [
    "sun.points.shape"
   ]
  },
  {
   "cell_type": "code",
   "execution_count": 41,
   "metadata": {},
   "outputs": [
    {
     "data": {
      "text/plain": [
       "(31752, 3)"
      ]
     },
     "execution_count": 41,
     "metadata": {},
     "output_type": "execute_result"
    }
   ],
   "source": [
    "np.concatenate((sun.points, earth.points)).shape"
   ]
  },
  {
   "cell_type": "code",
   "execution_count": 34,
   "metadata": {},
   "outputs": [],
   "source": [
    "shade = np.empty(earth.normals.shape[0])\n",
    "for i in range(earth.normals.shape[0]):\n",
    "    ray = (earth.points[i] - sun.position)\n",
    "    ray = ray / np.linalg.norm(ray)\n",
    "    shade[i] = ray @ earth.normals[i]"
   ]
  },
  {
   "cell_type": "code",
   "execution_count": 33,
   "metadata": {},
   "outputs": [
    {
     "data": {
      "text/plain": [
       "array([4.        , 3.99625078, 3.9850125 , ..., 3.9717947 , 3.98798026,\n",
       "       3.99669742])"
      ]
     },
     "execution_count": 33,
     "metadata": {},
     "output_type": "execute_result"
    }
   ],
   "source": [
    "shade"
   ]
  },
  {
   "cell_type": "code",
   "execution_count": null,
   "metadata": {},
   "outputs": [],
   "source": []
  }
 ],
 "metadata": {
  "kernelspec": {
   "display_name": "Python 3.10.4 64-bit",
   "language": "python",
   "name": "python3"
  },
  "language_info": {
   "codemirror_mode": {
    "name": "ipython",
    "version": 3
   },
   "file_extension": ".py",
   "mimetype": "text/x-python",
   "name": "python",
   "nbconvert_exporter": "python",
   "pygments_lexer": "ipython3",
   "version": "3.10.4"
  },
  "orig_nbformat": 4,
  "vscode": {
   "interpreter": {
    "hash": "916dbcbb3f70747c44a77c7bcd40155683ae19c65e1c03b4aa3499c5328201f1"
   }
  }
 },
 "nbformat": 4,
 "nbformat_minor": 2
}
